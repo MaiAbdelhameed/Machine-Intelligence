{
 "cells": [
  {
   "cell_type": "code",
   "execution_count": 12,
   "metadata": {},
   "outputs": [
    {
     "ename": "AttributeError",
     "evalue": "type object 'ParkingProblem' has no attribute 'cars'",
     "output_type": "error",
     "traceback": [
      "\u001b[1;31m---------------------------------------------------------------------------\u001b[0m",
      "\u001b[1;31mAttributeError\u001b[0m                            Traceback (most recent call last)",
      "Cell \u001b[1;32mIn [12], line 133\u001b[0m\n\u001b[0;32m    126\u001b[0m         \u001b[39mwith\u001b[39;00m \u001b[39mopen\u001b[39m(path, \u001b[39m'\u001b[39m\u001b[39mr\u001b[39m\u001b[39m'\u001b[39m) \u001b[39mas\u001b[39;00m f:\n\u001b[0;32m    127\u001b[0m             \u001b[39mreturn\u001b[39;00m ParkingProblem\u001b[39m.\u001b[39mfrom_text(f\u001b[39m.\u001b[39mread())\n\u001b[1;32m--> 133\u001b[0m state\u001b[39m=\u001b[39mParkingProblem\u001b[39m.\u001b[39;49mget_initial_state(ParkingProblem)\n\u001b[0;32m    134\u001b[0m state\n",
      "Cell \u001b[1;32mIn [12], line 25\u001b[0m, in \u001b[0;36mParkingProblem.get_initial_state\u001b[1;34m(self)\u001b[0m\n\u001b[0;32m     22\u001b[0m \u001b[39mdef\u001b[39;00m \u001b[39mget_initial_state\u001b[39m(\u001b[39mself\u001b[39m) \u001b[39m-\u001b[39m\u001b[39m>\u001b[39m ParkingState:\n\u001b[0;32m     23\u001b[0m     \u001b[39m#TODO: ADD YOUR CODE HERE\u001b[39;00m\n\u001b[0;32m     24\u001b[0m     state\u001b[39m=\u001b[39m\u001b[39mlist\u001b[39m()\n\u001b[1;32m---> 25\u001b[0m     \u001b[39mfor\u001b[39;00m i \u001b[39min\u001b[39;00m \u001b[39mrange\u001b[39m(\u001b[39m0\u001b[39m, \u001b[39mlen\u001b[39m(\u001b[39mself\u001b[39;49m\u001b[39m.\u001b[39;49mcars)):\n\u001b[0;32m     26\u001b[0m         state\u001b[39m.\u001b[39mappend(\u001b[39mself\u001b[39m\u001b[39m.\u001b[39mcars[i])\n\u001b[0;32m     27\u001b[0m     state\u001b[39m=\u001b[39m\u001b[39mtuple\u001b[39m(state)\n",
      "\u001b[1;31mAttributeError\u001b[0m: type object 'ParkingProblem' has no attribute 'cars'"
     ]
    }
   ],
   "source": [
    "\n",
    "from http.client import CannotSendRequest\n",
    "from typing import Any, Dict, Set, Tuple, List\n",
    "from problem import Problem\n",
    "from mathutils import Direction, Point\n",
    "from helpers import utils\n",
    "\n",
    "#TODO: (Optional) Instead of Any, you can define a type for the parking state\n",
    "ParkingState = Tuple[Point]\n",
    "# An action of the parking problem is a tuple containing an index 'i' and a direction 'd' where car 'i' should move in the direction 'd'.\n",
    "ParkingAction = Tuple[int, Direction]\n",
    "\n",
    "# This is the implementation of the parking problem\n",
    "class ParkingProblem(Problem[ParkingState, ParkingAction]):\n",
    "    passages: Set[Point]    # A set of points which indicate where a car can be (in other words, every position except walls).\n",
    "    cars: Tuple[Point]      # A tuple of points where state[i] is the position of car 'i'. \n",
    "    slots: Dict[Point, int] # A dictionary which indicate the index of the parking slot (if it is 'i' then it is the lot of car 'i') for every position.\n",
    "                            # if a position does not contain a parking slot, it will not be in this dictionary.\n",
    "    width: int              # The width of the parking lot.\n",
    "    height: int             # The height of the parking lot.\n",
    "\n",
    "    # This function should return the initial state\n",
    "    def get_initial_state(self) -> ParkingState:\n",
    "        #TODO: ADD YOUR CODE HERE\n",
    "       return self.cars\n",
    "    \n",
    "    # This function should return True if the given state is a goal. Otherwise, it should return False.\n",
    "    def is_goal(self, state: ParkingState) -> bool:\n",
    "        #TODO: ADD YOUR CODE HERE\n",
    "        slotPos=list(self.slots.keys())\n",
    "        for i in range(0, len(state)):\n",
    "            if (state[i] == slotPos[i]):\n",
    "                flag=True\n",
    "            else: \n",
    "                flag=False\n",
    "        return flag  \n",
    "    \n",
    "    # This function returns a list of all the possible actions that can be applied to the given state\n",
    "    def get_actions(self, state: ParkingState) -> List[ParkingAction]:\n",
    "        #TODO: ADD YOUR CODE HERE\n",
    "        actions=list()\n",
    "        if (self.is_goal(state)==0):\n",
    "            for i in range(0, len(self.cars)):\n",
    "                p=Point(self.cars[i][0]+1, self.cars[i][1])\n",
    "                if(p in self.passages): #check if car 'i' can move right\n",
    "                    actions.append(tuple((i, 'R')))\n",
    "                \n",
    "                p=Point(self.cars[i][0]-1, self.cars[i][1])\n",
    "                if(p in self.passages): #check if car 'i' can move left\n",
    "                    actions.append(tuple((i, 'L')))\n",
    "                \n",
    "                p=Point(self.cars[i][0], self.cars[i][1]+1)\n",
    "                if(p in self.passages): #check if car 'i' can move up\n",
    "                    actions.append(tuple((i, 'U')))\n",
    "                \n",
    "                p=Point(self.cars[i][0], self.cars[i][1]-1)\n",
    "                if(p in self.passages):#check if car 'i' can move down\n",
    "                    actions.append(tuple((i, 'D')))\n",
    "        \n",
    "        return actions\n",
    "    \n",
    "    # This function returns a new state which is the result of applying the given action to the given state\n",
    "    def get_successor(self, state: ParkingState, action: ParkingAction) -> ParkingState:\n",
    "        #TODO: ADD YOUR CODE HERE\n",
    "        newState=list(state)\n",
    "        for i in range(0,len(state)):\n",
    "            if (i==action[0]):\n",
    "                if (action[1]=='R'):\n",
    "                    newState[i]=tuple((newState[i][0]+1, newState[i][1]))\n",
    "                \n",
    "                if (action[1]=='L'):\n",
    "                    newState[i]=tuple((newState[i][0]-1, newState[i][1]))\n",
    "                    \n",
    "                if (action[1]=='U'):\n",
    "                    newState[i]=tuple((newState[i][0], newState[i][1]+1))\n",
    "                    \n",
    "                if (action[1]=='D'):\n",
    "                    newState[i]=tuple((newState[i][0]+1, newState[i][1]-1))\n",
    "        \n",
    "        newState=tuple(newState)\n",
    "        return newState    \n",
    "         \n",
    "    # This function returns the cost of applying the given action to the given state\n",
    "    def get_cost(self, state: ParkingState, action: ParkingAction) -> float:\n",
    "        #TODO: ADD YOUR CODE HERE\n",
    "        cost=0\n",
    "        for i in range(0, len(state)):\n",
    "            for j in range(0, len(self.slots)):\n",
    "                if (state[i] == self.slots[j] and (j!=i)):\n",
    "                    cost=101\n",
    "                elif (state[i] == self.slots[j] and (j==i)):\n",
    "                    cost=1\n",
    "        return cost          \n",
    "    \n",
    "    # Read a parking problem from text containing a grid of tiles\n",
    "    @staticmethod\n",
    "    def from_text(text: str) -> 'ParkingProblem':\n",
    "        passages =  set()\n",
    "        cars, slots = {}, {}\n",
    "        lines = [line for line in (line.strip() for line in text.splitlines()) if line]\n",
    "        width, height = max(len(line) for line in lines), len(lines)\n",
    "        for y, line in enumerate(lines):\n",
    "            for x, char in enumerate(line):\n",
    "                if char != \"#\":\n",
    "                    passages.add(Point(x, y))\n",
    "                    if char == '.':\n",
    "                        pass\n",
    "                    elif char in \"ABCDEFGHIJ\":\n",
    "                        cars[ord(char) - ord('A')] = Point(x, y)\n",
    "                    elif char in \"0123456789\":\n",
    "                        slots[int(char)] = Point(x, y)\n",
    "        problem = ParkingProblem()\n",
    "        problem.passages = passages\n",
    "        problem.cars = tuple(cars[i] for i in range(len(cars)))\n",
    "        problem.slots = {position:index for index, position in slots.items()}\n",
    "        problem.width = width\n",
    "        problem.height = height\n",
    "        return problem\n",
    "\n",
    "    # Read a parking problem from file containing a grid of tiles\n",
    "    @staticmethod\n",
    "    def from_file(path: str) -> 'ParkingProblem':\n",
    "        with open(path, 'r') as f:\n",
    "            return ParkingProblem.from_text(f.read())\n",
    "    \n",
    "\n",
    "\n",
    "\n",
    "\n",
    "state=ParkingProblem.get_initial_state(ParkingProblem)\n",
    "state"
   ]
  },
  {
   "cell_type": "code",
   "execution_count": 27,
   "metadata": {},
   "outputs": [
    {
     "name": "stdout",
     "output_type": "stream",
     "text": [
      "deque(['A', 'B'])\n",
      "B\n",
      "deque(['A'])\n"
     ]
    }
   ],
   "source": [
    "from collections import deque\n",
    "path=dict()\n",
    "path['A']='G'\n",
    "path[2]=5\n",
    "\n",
    "q=deque()\n",
    "q.append('A')\n",
    "q.append('B')\n",
    "print(q)\n",
    "print(q.pop())\n",
    "print(q)\n",
    "\n",
    "l=list()\n",
    "l.append('X')\n",
    "l.append('A')\n",
    "l.append('H')\n",
    "\n"
   ]
  },
  {
   "cell_type": "code",
   "execution_count": 30,
   "metadata": {},
   "outputs": [
    {
     "data": {
      "text/plain": [
       "[1, 5, 7]"
      ]
     },
     "execution_count": 30,
     "metadata": {},
     "output_type": "execute_result"
    }
   ],
   "source": [
    "l=list()\n",
    "l=[1,5,7]\n",
    "l"
   ]
  },
  {
   "cell_type": "code",
   "execution_count": 34,
   "metadata": {},
   "outputs": [
    {
     "data": {
      "text/plain": [
       "3"
      ]
     },
     "execution_count": 34,
     "metadata": {},
     "output_type": "execute_result"
    }
   ],
   "source": [
    "t=Tuple[Point]\n",
    "t=((3,4), (4,5), (5,9))\n",
    "t[0][0]"
   ]
  },
  {
   "cell_type": "code",
   "execution_count": 2,
   "metadata": {},
   "outputs": [
    {
     "data": {
      "text/plain": [
       "[[1, 3, 4], [4, 5]]"
      ]
     },
     "execution_count": 2,
     "metadata": {},
     "output_type": "execute_result"
    }
   ],
   "source": [
    "l=[]\n",
    "l.append([1,3,4])\n",
    "l.append([4,5])\n",
    "l"
   ]
  },
  {
   "cell_type": "code",
   "execution_count": null,
   "metadata": {},
   "outputs": [],
   "source": []
  }
 ],
 "metadata": {
  "kernelspec": {
   "display_name": "Python 3.10.8 64-bit (microsoft store)",
   "language": "python",
   "name": "python3"
  },
  "language_info": {
   "codemirror_mode": {
    "name": "ipython",
    "version": 3
   },
   "file_extension": ".py",
   "mimetype": "text/x-python",
   "name": "python",
   "nbconvert_exporter": "python",
   "pygments_lexer": "ipython3",
   "version": "3.10.8"
  },
  "orig_nbformat": 4,
  "vscode": {
   "interpreter": {
    "hash": "8119135b56154d302fe42e36e6d2ef9c4649167b18d6c42ff31584c70301f622"
   }
  }
 },
 "nbformat": 4,
 "nbformat_minor": 2
}
